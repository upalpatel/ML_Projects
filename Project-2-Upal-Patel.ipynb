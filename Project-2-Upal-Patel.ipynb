{
 "cells": [
  {
   "cell_type": "markdown",
   "metadata": {},
   "source": [
    "# Dataset 1:"
   ]
  },
  {
   "cell_type": "code",
   "execution_count": 5,
   "metadata": {},
   "outputs": [
    {
     "data": {
      "text/plain": [
       "1.0"
      ]
     },
     "execution_count": 5,
     "metadata": {},
     "output_type": "execute_result"
    }
   ],
   "source": [
    "import pandas as pd\n",
    "import numpy as np\n",
    "import matplotlib.pyplot as plt\n",
    "from sklearn.preprocessing import StandardScaler\n",
    "from sklearn.linear_model import LogisticRegression\n",
    "from matplotlib.colors import ListedColormap\n",
    "\n",
    "df1 = pd.read_csv('dataset1.csv')\n",
    "\n",
    "x1 = df1.iloc[:, [0,1]].values\n",
    "y1 = df1.iloc[:, 2].values\n",
    "\n",
    "model1 = LogisticRegression(solver='liblinear', random_state = 0) \n",
    "model1.fit(x1, y1)\n",
    "model1.score(x1, y1)"
   ]
  },
  {
   "cell_type": "markdown",
   "metadata": {},
   "source": [
    "(1) The model's predictions are pretty accurate for dataset 1, a score of 1 means that it is 100%."
   ]
  },
  {
   "cell_type": "code",
   "execution_count": 6,
   "metadata": {},
   "outputs": [
    {
     "name": "stderr",
     "output_type": "stream",
     "text": [
      "'c' argument looks like a single numeric RGB or RGBA sequence, which should be avoided as value-mapping will have precedence in case its length matches with 'x' & 'y'.  Please use a 2-D array with a single row if you really want to specify the same RGB or RGBA value for all points.\n",
      "'c' argument looks like a single numeric RGB or RGBA sequence, which should be avoided as value-mapping will have precedence in case its length matches with 'x' & 'y'.  Please use a 2-D array with a single row if you really want to specify the same RGB or RGBA value for all points.\n"
     ]
    },
    {
     "data": {
      "image/png": "[encoded data removed]",
      "text/plain": [
       "<Figure size 432x288 with 1 Axes>"
      ]
     },
     "metadata": {
      "needs_background": "light"
     },
     "output_type": "display_data"
    }
   ],
   "source": [
    "X1, X2 = np.meshgrid(np.arange(start = x1[:, 0].min() - 1,  \n",
    "                               stop = x1[:, 0].max() + 1, step = 0.01), \n",
    "                     np.arange(start = x1[:, 1].min() - 1,  \n",
    "                               stop = x1[:, 1].max() + 1, step = 0.01)) \n",
    "  \n",
    "plt.contourf(X1, X2, model1.predict( \n",
    "             np.array([X1.ravel(), X2.ravel()]).T).reshape( \n",
    "             X1.shape), alpha = 0.75, cmap = ListedColormap(('white', 'lightgray'))) \n",
    "  \n",
    "plt.xlim(X1.min(), X1.max()) \n",
    "plt.ylim(X2.min(), X2.max()) \n",
    "\n",
    "for i, j in enumerate(np.unique(y1)): \n",
    "    plt.scatter(x1[y1 == j, 0], x1[y1 == j, 1], \n",
    "                c = ListedColormap(('maroon', 'blue'))(i), label = j) \n",
    "\n",
    "plt.title('Model 1')\n",
    "plt.xlabel('X1')\n",
    "plt.ylabel('X2')\n",
    "plt.legend()\n",
    "plt.show()"
   ]
  },
  {
   "cell_type": "markdown",
   "metadata": {},
   "source": [
    "# Dataset 2:"
   ]
  },
  {
   "cell_type": "code",
   "execution_count": 7,
   "metadata": {},
   "outputs": [
    {
     "data": {
      "text/plain": [
       "0.542713567839196"
      ]
     },
     "execution_count": 7,
     "metadata": {},
     "output_type": "execute_result"
    }
   ],
   "source": [
    "df2 = pd.read_csv('dataset2.csv')\n",
    "\n",
    "x2 = df2.iloc[:, [0,1]].values\n",
    "y2 = df2.iloc[:, 2].values\n",
    "\n",
    "model2 = LogisticRegression(solver='liblinear', random_state = 0) \n",
    "model2.fit(x2, y2)\n",
    "model2.score(x2, y2)"
   ]
  },
  {
   "cell_type": "markdown",
   "metadata": {},
   "source": [
    "(2) The model's predictions for dataset 2 are 50% compared to dataset 1 that was 100%."
   ]
  },
  {
   "cell_type": "code",
   "execution_count": 8,
   "metadata": {},
   "outputs": [
    {
     "name": "stderr",
     "output_type": "stream",
     "text": [
      "'c' argument looks like a single numeric RGB or RGBA sequence, which should be avoided as value-mapping will have precedence in case its length matches with 'x' & 'y'.  Please use a 2-D array with a single row if you really want to specify the same RGB or RGBA value for all points.\n",
      "'c' argument looks like a single numeric RGB or RGBA sequence, which should be avoided as value-mapping will have precedence in case its length matches with 'x' & 'y'.  Please use a 2-D array with a single row if you really want to specify the same RGB or RGBA value for all points.\n"
     ]
    },
    {
     "data": {
      "image/png": "[encoded data removed]",
      "text/plain": [
       "<Figure size 432x288 with 1 Axes>"
      ]
     },
     "metadata": {
      "needs_background": "light"
     },
     "output_type": "display_data"
    }
   ],
   "source": [
    "X1, X2 = np.meshgrid(np.arange(start = x2[:, 0].min() - 1,  \n",
    "                               stop = x2[:, 0].max() + 1, step = 0.01), \n",
    "                     np.arange(start = x2[:, 1].min() - 1,  \n",
    "                               stop = x2[:, 1].max() + 1, step = 0.01)) \n",
    "  \n",
    "plt.contourf(X1, X2, model2.predict( \n",
    "             np.array([X1.ravel(), X2.ravel()]).T).reshape( \n",
    "             X1.shape), alpha = 0.75, cmap = ListedColormap(('white', 'lightgray'))) \n",
    "  \n",
    "plt.xlim(X1.min(), X1.max()) \n",
    "plt.ylim(X2.min(), X2.max()) \n",
    "\n",
    "for i, j in enumerate(np.unique(y2)): \n",
    "    plt.scatter(x2[y2 == j, 0], x2[y2 == j, 1], \n",
    "                c = ListedColormap(('maroon', 'blue'))(i), label = j) \n",
    "\n",
    "plt.title('Model 2')\n",
    "plt.xlabel('X1')\n",
    "plt.ylabel('X2')\n",
    "plt.legend()\n",
    "plt.show()"
   ]
  },
  {
   "cell_type": "markdown",
   "metadata": {},
   "source": [
    "(3) The scatterplots for both datasets are shown above accordingly.<br/>For dataset 1, we are able to differentiate class 0 and 1, whereas for dataset 2 it is hard to tell due to data inconsistency and discrepancies."
   ]
  },
  {
   "cell_type": "markdown",
   "metadata": {},
   "source": [
    "(4) Gaussian Naive Bayes for dataset 1:"
   ]
  },
  {
   "cell_type": "code",
   "execution_count": 9,
   "metadata": {},
   "outputs": [
    {
     "name": "stdout",
     "output_type": "stream",
     "text": [
      "Gaussian Naive Bayes Dataset 1 Prediction %: 100\n"
     ]
    }
   ],
   "source": [
    "from sklearn.model_selection import train_test_split\n",
    "from sklearn.naive_bayes import GaussianNB\n",
    "from sklearn import metrics\n",
    "gnb = GaussianNB()\n",
    "gnb2 = GaussianNB()\n",
    "\n",
    "X_train, X_test, y_train, y_test = train_test_split(x1, y1, test_size = 0.5, random_state = 1) \n",
    "y_pred = gnb.fit(X_train, y_train).predict(X_test)\n",
    "print(\"Gaussian Naive Bayes Dataset 1 Prediction %: \"+str((y_test==y_pred).sum()))"
   ]
  },
  {
   "cell_type": "markdown",
   "metadata": {},
   "source": [
    "(4) Gaussian Naive Bayes for dataset 2:"
   ]
  },
  {
   "cell_type": "code",
   "execution_count": 10,
   "metadata": {
    "scrolled": true
   },
   "outputs": [
    {
     "name": "stdout",
     "output_type": "stream",
     "text": [
      "Gaussian Naive Bayes Dataset 2 Prediction %: 100\n"
     ]
    }
   ],
   "source": [
    "X2_train, X2_test, y2_train, y2_test = train_test_split(x2, y2, test_size = 0.5, random_state = 1) \n",
    "y2_pred = gnb2.fit(X2_train, y2_train).predict(X2_test)\n",
    "print(\"Gaussian Naive Bayes Dataset 2 Prediction %: \"+str((y2_test==y2_pred).sum()))"
   ]
  },
  {
   "cell_type": "markdown",
   "metadata": {},
   "source": [
    "These classifiers score well compared to logistic regression.<br/>The score accuracy is different for dataset 2 when compared to logistic regression."
   ]
  },
  {
   "cell_type": "code",
   "execution_count": 11,
   "metadata": {},
   "outputs": [
    {
     "data": {
      "text/plain": [
       "1.0"
      ]
     },
     "execution_count": 11,
     "metadata": {},
     "output_type": "execute_result"
    }
   ],
   "source": [
    "from sklearn.neighbors import KNeighborsClassifier\n",
    "X_train, X_test, y_train, y_test = train_test_split(x1, y1, stratify=y1, test_size=0.5, random_state=42)\n",
    "knn = KNeighborsClassifier(n_neighbors = 3).fit(X_train, y_train)\n",
    "knn.score(X_test, y_test)"
   ]
  },
  {
   "cell_type": "code",
   "execution_count": 12,
   "metadata": {},
   "outputs": [
    {
     "data": {
      "text/plain": [
       "1.0"
      ]
     },
     "execution_count": 12,
     "metadata": {},
     "output_type": "execute_result"
    }
   ],
   "source": [
    "X2_train, X2_test, y2_train, y2_test = train_test_split(x2, y2, stratify=y2, test_size=0.5, random_state=42)\n",
    "knn2 = KNeighborsClassifier(n_neighbors = 3).fit(X2_train, y2_train)\n",
    "knn2.score(X2_test, y2_test)"
   ]
  },
  {
   "cell_type": "markdown",
   "metadata": {},
   "source": [
    "Both KNN classifiers fit the data 100% which is similar to how accurate the score was for Guassian Naive Bayes."
   ]
  },
  {
   "cell_type": "markdown",
   "metadata": {},
   "source": [
    "(6) Gaussian Naive Bayes:"
   ]
  },
  {
   "cell_type": "code",
   "execution_count": 13,
   "metadata": {},
   "outputs": [
    {
     "data": {
      "image/png": "[encoded data removed]",
      "text/plain": [
       "<Figure size 432x288 with 1 Axes>"
      ]
     },
     "metadata": {
      "needs_background": "light"
     },
     "output_type": "display_data"
    },
    {
     "data": {
      "image/png": "[encoded data removed]",
      "text/plain": [
       "<Figure size 432x288 with 1 Axes>"
      ]
     },
     "metadata": {
      "needs_background": "light"
     },
     "output_type": "display_data"
    }
   ],
   "source": [
    "#Dataset 1\n",
    "\n",
    "X_train, X_test, y_train, y_test = train_test_split(x1, y1, test_size = 0.5, random_state = 1)\n",
    "x_set, y_set = X_test, y_test \n",
    "X1, X2 = np.meshgrid(np.arange(start = x_set[:, 0].min() - 1.0,  \n",
    "                               stop = x_set[:, 0].max() + 1.0, step = 0.01), \n",
    "                     np.arange(start = x_set[:, 1].min() - 1.0,  \n",
    "                               stop = x_set[:, 1].max() + 1.0, step = 0.01)) \n",
    "  \n",
    "plt.contourf(X1, X2,gnb.predict(np.array([X1.ravel(), X2.ravel()]).T).reshape(X1.shape),\n",
    "             alpha = 0.80, cmap = ListedColormap(('white', 'lightgray'))) \n",
    "  \n",
    "plt.xlim(X1.min(), X1.max()) \n",
    "plt.ylim(X2.min(), X2.max()) \n",
    "\n",
    "for a, b in enumerate(np.unique(y_set)): \n",
    "    pos = np.where(y_set==b)[0]\n",
    "    plt.scatter(x_set[pos, 0], x_set[pos, 1], \n",
    "               c = np.array(ListedColormap(('maroon', 'blue'))(a)).reshape(1,-1), label = b) \n",
    "      \n",
    "plt.title('Gaussian Naive Bayes Dataset 1') \n",
    "plt.legend() \n",
    "plt.show() \n",
    "\n",
    "#Dataset 2\n",
    "\n",
    "X2_train, X2_test, y2_train, y2_test = train_test_split(x2, y2, test_size = 0.5, random_state = 1)\n",
    "x2_set, y2_set = X2_test, y2_test \n",
    "X1, X2 = np.meshgrid(np.arange(start = x2_set[:, 0].min() - 1.0,  \n",
    "                               stop = x2_set[:, 0].max() + 1.0, step = 0.01), \n",
    "                     np.arange(start = x2_set[:, 1].min() - 1.0,  \n",
    "                               stop = x2_set[:, 1].max() + 1.0, step = 0.01)) \n",
    "  \n",
    "plt.contourf(X1, X2,gnb2.predict(np.array([X1.ravel(), X2.ravel()]).T).reshape(X1.shape),\n",
    "             alpha = 0.80, cmap = ListedColormap(('white', 'lightgray'))) \n",
    "  \n",
    "plt.xlim(X1.min(), X1.max()) \n",
    "plt.ylim(X2.min(), X2.max()) \n",
    "\n",
    "for a, b in enumerate(np.unique(y2_set)): \n",
    "    pos = np.where(y2_set==b)[0]\n",
    "    plt.scatter(x2_set[pos, 0], x2_set[pos, 1], \n",
    "               c = np.array(ListedColormap(('maroon', 'blue'))(a)).reshape(1,-1), label = b) \n",
    "      \n",
    "plt.title('Gaussian Naive Bayes Dataset 2') \n",
    "plt.legend() \n",
    "plt.show() "
   ]
  },
  {
   "cell_type": "markdown",
   "metadata": {},
   "source": [
    "Gaussian Naive Bayes fits a lot better compared to the graphs of Logistic Regression."
   ]
  },
  {
   "cell_type": "markdown",
   "metadata": {},
   "source": [
    "(6) K-Nearest Neighbor:"
   ]
  },
  {
   "cell_type": "code",
   "execution_count": 14,
   "metadata": {},
   "outputs": [
    {
     "data": {
      "image/png": "[encoded data removed]",
      "text/plain": [
       "<Figure size 432x288 with 1 Axes>"
      ]
     },
     "metadata": {
      "needs_background": "light"
     },
     "output_type": "display_data"
    },
    {
     "data": {
      "image/png": "[encoded data removed]",
      "text/plain": [
       "<Figure size 432x288 with 1 Axes>"
      ]
     },
     "metadata": {
      "needs_background": "light"
     },
     "output_type": "display_data"
    }
   ],
   "source": [
    "from sklearn.preprocessing import StandardScaler\n",
    "SS = StandardScaler()\n",
    "SS2 = StandardScaler()\n",
    "\n",
    "#Dataset 1\n",
    "\n",
    "X_train, X_test, y_train, y_test = train_test_split(x1, y1, stratify=y1, test_size=0.5, random_state=42)\n",
    "\n",
    "X_train = SS.fit_transform(X_train)  \n",
    "X_test = SS.transform(X_test) \n",
    "\n",
    "knn = KNeighborsClassifier(n_neighbors = 3).fit(X_train, y_train)\n",
    "\n",
    "x_set, y_set = X_test, y_test \n",
    "X1, X2 = np.meshgrid(np.arange(start = x_set[:, 0].min() - 1.0,  \n",
    "                               stop = x_set[:, 0].max() + 1.0, step = 0.01), \n",
    "                     np.arange(start = x_set[:, 1].min() - 1.0,  \n",
    "                               stop = x_set[:, 1].max() + 1.0, step = 0.01)) \n",
    "  \n",
    "plt.contourf(X1, X2,knn.predict(np.array([X1.ravel(), X2.ravel()]).T).reshape(X1.shape),\n",
    "             alpha = 0.80, cmap = ListedColormap(('white', 'lightgray'))) \n",
    "  \n",
    "plt.xlim(X1.min(), X1.max()) \n",
    "plt.ylim(X2.min(), X2.max()) \n",
    "\n",
    "for a, b in enumerate(np.unique(y_set)): \n",
    "    pos = np.where(y_set==b)[0]\n",
    "    plt.scatter(x_set[pos, 0], x_set[pos, 1], \n",
    "               c = np.array(ListedColormap(('maroon', 'blue'))(a)).reshape(1,-1), label = b) \n",
    "      \n",
    "plt.title('KNN Dataset 1') \n",
    "plt.legend()\n",
    "plt.show()\n",
    "\n",
    "#Dataset 2\n",
    "\n",
    "X2_train, X2_test, y2_train, y2_test = train_test_split(x2, y2, stratify=y2, test_size=0.5, random_state=42)\n",
    "\n",
    "X2_train = SS2.fit_transform(X2_train)  \n",
    "X2_test = SS2.transform(X2_test) \n",
    "\n",
    "knn2 = KNeighborsClassifier(n_neighbors = 3).fit(X2_train, y2_train)\n",
    "\n",
    "x2_set, y2_set = X2_test, y2_test \n",
    "X1, X2 = np.meshgrid(np.arange(start = x2_set[:, 0].min() - 1.0,  \n",
    "                               stop = x2_set[:, 0].max() + 1.0, step = 0.01), \n",
    "                     np.arange(start = x2_set[:, 1].min() - 1.0,  \n",
    "                               stop = x2_set[:, 1].max() + 1.0, step = 0.01)) \n",
    "  \n",
    "plt.contourf(X1, X2,knn2.predict(np.array([X1.ravel(), X2.ravel()]).T).reshape(X1.shape),\n",
    "             alpha = 0.80, cmap = ListedColormap(('white', 'lightgray'))) \n",
    "  \n",
    "plt.xlim(X1.min(), X1.max()) \n",
    "plt.ylim(X2.min(), X2.max()) \n",
    "\n",
    "for a, b in enumerate(np.unique(y2_set)): \n",
    "    pos = np.where(y2_set==b)[0]\n",
    "    plt.scatter(x2_set[pos, 0], x2_set[pos, 1], \n",
    "               c = np.array(ListedColormap(('maroon', 'blue'))(a)).reshape(1,-1), label = b) \n",
    "      \n",
    "plt.title('KNN Dataset 2')\n",
    "plt.legend()\n",
    "plt.show()"
   ]
  },
  {
   "cell_type": "markdown",
   "metadata": {},
   "source": [
    "The boundaries for KNN are slightly better but similar to the accuracy of Gausian Naive Bayes."
   ]
  },
  {
   "cell_type": "markdown",
   "metadata": {},
   "source": [
    "References:  \n",
    "https://scikit-learn.org/stable/modules/neighbors.html#nearest-neighbors-classification  \n",
    "https://scikit-learn.org/stable/modules/naive_bayes.html  \n",
    "https://www.astroml.org/book_figures/chapter9/fig_simple_naivebayes.html  \n",
    "https://www.geeksforgeeks.org/multiclass-classification-using-scikit-learn/  \n",
    "https://medium.com/pursuitnotes/logistic-regression-model-in-9-steps-with-python-dbfd924f9305  "
   ]
  }
 ],
 "metadata": {
  "kernelspec": {
   "display_name": "Python 3",
   "language": "python",
   "name": "python3"
  },
  "language_info": {
   "codemirror_mode": {
    "name": "ipython",
    "version": 3
   },
   "file_extension": ".py",
   "mimetype": "text/x-python",
   "name": "python",
   "nbconvert_exporter": "python",
   "pygments_lexer": "ipython3",
   "version": "3.7.4"
  }
 },
 "nbformat": 4,
 "nbformat_minor": 2
}
